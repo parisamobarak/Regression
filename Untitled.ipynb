{
 "cells": [
  {
   "cell_type": "code",
   "execution_count": 1,
   "id": "ca5208d2-7de9-4684-8ef6-00d3a35d5cca",
   "metadata": {},
   "outputs": [
    {
     "name": "stdout",
     "output_type": "stream",
     "text": [
      "dataset:\n",
      " [[52.   45.   48.   ...  2.   32.    1.94]\n",
      " [57.   90.   72.   ...  1.   32.    1.95]\n",
      " [57.   55.   43.   ...  3.   32.    1.95]\n",
      " ...\n",
      " [68.   95.   72.   ...  1.   45.    3.81]\n",
      " [52.   92.   72.   ...  1.   45.    3.81]\n",
      " [52.   90.   72.   ...  1.   45.    3.81]]\n",
      "Final Training cost: 0.06057328188557769\n",
      "Final Test cost: 0.0755391128370268\n"
     ]
    },
    {
     "data": {
      "image/png": "[encoded data removed]",
      "text/plain": [
       "<Figure size 640x480 with 1 Axes>"
      ]
     },
     "metadata": {},
     "output_type": "display_data"
    },
    {
     "name": "stdout",
     "output_type": "stream",
     "text": [
      " Training cost normal: 0.04656980599149434\n",
      " Test cost normal: 0.05860494592806733\n"
     ]
    }
   ],
   "source": [
    "import pandas as pd\n",
    "import numpy as np\n",
    "import matplotlib.pyplot as plt\n",
    "from sklearn.model_selection import train_test_split\n",
    "\n",
    "df = pd.read_excel('dataset.xlsx', header=None)\n",
    "df = df.values\n",
    "print(\"dataset:\\n\",df)\n",
    "\n",
    "x,y= df[:, 0:-1] , df[:, -1]\n",
    "x_train, x_test, y_train, y_test = train_test_split(x, y, test_size=0.3, random_state=42)\n",
    "\n",
    "def h(x , theta):\n",
    "    return x.dot(theta)\n",
    "def mse(y_pred , y_true):\n",
    "    return 0.5*((y_pred - y_true)**2).mean()\n",
    "    \n",
    "mu = x_train.mean(axis=0)\n",
    "sigma = x_train.std(axis=0)\n",
    "xn_train = (x_train - mu) / sigma\n",
    "\n",
    "alpha=0.01\n",
    "theta = np.random.randn( x.shape[1] +1 )\n",
    "costs_train=[]\n",
    "xn_train = np.insert(xn_train, 0, 1, axis=1)\n",
    "def update_step():\n",
    "    global theta , costs_train\n",
    "    y_pred= h(xn_train ,theta)\n",
    "    costs_train.append(mse(y_pred , y_train))\n",
    "    dtheta = np.zeros([xn_train.shape[0],xn_train.shape[1]])\n",
    "    dtheta[:,0]=(y_pred - y_train)\n",
    "    for i in range(1,xn_train.shape[1]):\n",
    "        dtheta[:,i]= xn_train[: ,i]*dtheta[:,0]\n",
    "        \n",
    "    for i in range(0,xn_train.shape[1]):\n",
    "        theta[i]-=alpha*dtheta[: ,i].mean()\n",
    "\n",
    "costs_test=[]\n",
    "for i in range(1000):\n",
    "    update_step()\n",
    "    x_test_n = (x_test - mu) / sigma  \n",
    "    x_test_n = np.insert(x_test_n, 0, 1, axis=1)\n",
    "    y_pred_test = h(x_test_n, theta)  \n",
    "    costs_test.append((mse(y_pred_test, y_test)))\n",
    "\n",
    "    #if i > 0 and (costs_train[-2] - costs_train[-1] < 0.1):\n",
    "        #break  \n",
    "#print(i) \n",
    "\n",
    "print(\"Final Training cost:\", costs_train[-1])\n",
    "print(\"Final Test cost:\", costs_test[-1])\n",
    "\n",
    "plt.plot(costs_train, label='Training Set')\n",
    "plt.plot(costs_test, label='Test Set')\n",
    "plt.xlabel('iteration')\n",
    "plt.ylabel('costs')\n",
    "plt.legend()\n",
    "plt.show()\n",
    "\n",
    "\n",
    "# بخش دوم تمرین اول:استفاده از رابطه نرمال \n",
    "thetaa = np.linalg.pinv(xn_train.T.dot(xn_train)).dot(xn_train.T).dot(y_train)\n",
    "\n",
    "#  training cost\n",
    "y_pred_train = h(xn_train, thetaa)\n",
    "cost_train_normal = mse(y_pred_train, y_train)\n",
    "\n",
    "#  test cost\n",
    "y_pred_test = h(x_test_n, thetaa)\n",
    "cost_test_normal = mse(y_pred_test, y_test)\n",
    "\n",
    "print(\" Training cost normal:\", cost_train_normal)\n",
    "print(\" Test cost normal:\", cost_test_normal)"
   ]
  },
  {
   "cell_type": "code",
   "execution_count": 34,
   "id": "c98b9048-e820-4662-829e-b40e442a0146",
   "metadata": {},
   "outputs": [
    {
     "data": {
      "text/plain": [
       "numpy.ndarray"
      ]
     },
     "execution_count": 34,
     "metadata": {},
     "output_type": "execute_result"
    }
   ],
   "source": [
    "type(df)"
   ]
  }
 ],
 "metadata": {
  "kernelspec": {
   "display_name": "Python 3 (ipykernel)",
   "language": "python",
   "name": "python3"
  },
  "language_info": {
   "codemirror_mode": {
    "name": "ipython",
    "version": 3
   },
   "file_extension": ".py",
   "mimetype": "text/x-python",
   "name": "python",
   "nbconvert_exporter": "python",
   "pygments_lexer": "ipython3",
   "version": "3.11.7"
  }
 },
 "nbformat": 4,
 "nbformat_minor": 5
}
